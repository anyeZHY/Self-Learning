{
 "cells": [
  {
   "cell_type": "markdown",
   "id": "5b9db3fc",
   "metadata": {},
   "source": [
    "# Welcome to CS148!\n",
    "\n",
    "Assignment 0 is meant to ensure you have your development environment setup for this course. The deliverables are to submit a pdf of this notebook onto Gradescope. The To-Dos of this assignment are as follows:\n",
    "\n",
    "1. Install Blender and generate a render of a sphere\n",
    "2. Install Anaconda and setup a python environment\n",
    "3. Launch jupyter and see this notebook \n",
    "4. Run this notebook and make sure no errors occur\n",
    "5. Answer the 3 questions at the end of this notebook\n",
    "6. Generate a pdf (link to instructions) and submit the pdf to Gradescope\n",
    "\n",
    "Note: Do not edit any of the cells that have \"Do Not Edit\" on them!"
   ]
  },
  {
   "cell_type": "code",
   "execution_count": null,
   "id": "2379d38e",
   "metadata": {},
   "outputs": [],
   "source": [
    "#DO NOT EDIT\n",
    "import os, sys \n",
    "import cv2\n",
    "from matplotlib import pyplot as plt\n",
    "\n",
    "%load_ext autoreload\n",
    "%autoreload 2\n",
    "\n",
    "def show_image(filename:str, height:float=10, width:float=10):\n",
    "    if not os.path.isfile(filename):\n",
    "        raise IOError(f\"{filename} does not exist! Make sure you saved your images correctly.\")\n",
    "    img = cv2.imread(filename)\n",
    "    img = cv2.cvtColor(img, cv2.COLOR_BGR2RGB)\n",
    "    plt.gcf().set_size_inches((width,height))\n",
    "    plt.gca().grid(None)\n",
    "    plt.gca().axis(\"off\")\n",
    "    plt.imshow(img)\n",
    "    plt.show()"
   ]
  },
  {
   "cell_type": "markdown",
   "id": "9a2732ba",
   "metadata": {},
   "source": [
    "Before you execute/run the 2 next cells, make sure you have saved the blender screenshot to `images/blender_screenshot.png` and your first render to `images/blender_renders/0001.png`. "
   ]
  },
  {
   "cell_type": "code",
   "execution_count": null,
   "id": "65ed71b8",
   "metadata": {
    "scrolled": false
   },
   "outputs": [],
   "source": [
    "#DO NOT EDIT\n",
    "show_image(\"images/blender_screenshot.png\",height=6,width=10)"
   ]
  },
  {
   "cell_type": "code",
   "execution_count": null,
   "id": "2e9fbbfd",
   "metadata": {
    "scrolled": true
   },
   "outputs": [],
   "source": [
    "#DO NOT EDIT\n",
    "show_image(\"images/blender_renders/0001.png\",height=6,width=4)"
   ]
  },
  {
   "cell_type": "markdown",
   "id": "eaa9370c",
   "metadata": {},
   "source": [
    "# Short Responses\n",
    "\n",
    "Please fill out the answers to these questions -- 1-2 sentences for each should suffice.\n",
    "* What is your SUID (alphanumeric ID you use for your login, not the 8 digit number) and what is your preferred name that you go by?\n",
    "```\n",
    "TODO: fill in your answer here\n",
    "```\n",
    "\n",
    "* Why are you taking this course?\n",
    "```\n",
    "TODO: fill in your answer here\n",
    "```\n",
    "* What do you hope to learn from this course?\n",
    "```\n",
    "TODO: fill in your answer here\n",
    "```"
   ]
  }
 ],
 "metadata": {
  "kernelspec": {
   "display_name": "Python 3 (ipykernel)",
   "language": "python",
   "name": "python3"
  },
  "language_info": {
   "codemirror_mode": {
    "name": "ipython",
    "version": 3
   },
   "file_extension": ".py",
   "mimetype": "text/x-python",
   "name": "python",
   "nbconvert_exporter": "python",
   "pygments_lexer": "ipython3",
   "version": "3.9.12"
  }
 },
 "nbformat": 4,
 "nbformat_minor": 5
}