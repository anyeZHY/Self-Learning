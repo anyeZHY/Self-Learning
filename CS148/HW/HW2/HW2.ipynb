{
 "cells": [
  {
   "cell_type": "markdown",
   "metadata": {},
   "source": [
    "# HW2 Technical: Shaders and WebGL\n",
    "\n",
    "For this assignment, you'll be learning about GLSL and the rasterization pipeline through WebGL!\n",
    "The coding component of this homework includes the following steps:\n",
    "* Warmup 1: switch the normal shader from flat shading to smooth shading (2 line change)\n",
    "* Warmup 2: change the normal shader to do vertex computations instead of fragment computations (<5 line change)\n",
    "* __[Deliverable 1] Switch to the bunny model and render with the vertex-based normal shader. [1 point]__\n",
    "* Switch from the normal shader to the phong shader (which only has ambient color implemented.)\n",
    "* __[Deliverable 2] Implement the diffuse component and render the bunny model. [2 points]__\n",
    "* __[Deliverable 3] Implement the specular component and render the bunny model. [1 point]__\n",
    "* __[Deliverable 4] Answer the questions at the end. [1 point]__\n"
   ]
  },
  {
   "cell_type": "code",
   "execution_count": null,
   "metadata": {},
   "outputs": [],
   "source": [
    "#DO NOT EDIT\n",
    "import os, sys, glob\n",
    "import cv2\n",
    "from matplotlib import pyplot as plt\n",
    "%load_ext autoreload\n",
    "%autoreload 2\n",
    "\n",
    "def show_images(regex:str, height:float=12, width:float=12, num_columns=3):\n",
    "    filenames=glob.glob(regex)\n",
    "    if len(filenames)==0:\n",
    "        raise IOError(f\"files of the form {regex} do not exist! Make sure you saved your images correctly.\")\n",
    "    filenames.sort()\n",
    "    num_rows=(len(filenames)+num_columns-1)//num_columns\n",
    "    fig,axes=plt.subplots(num_rows,num_columns,gridspec_kw={'wspace':0, 'hspace':0})\n",
    "    for i,filename in enumerate(filenames):\n",
    "        img=cv2.imread(filename)\n",
    "        img=cv2.cvtColor(img, cv2.COLOR_BGR2RGB)        \n",
    "        y,x=divmod(i,num_columns)\n",
    "        ax=axes[y][x]\n",
    "        ax.grid(None)\n",
    "        ax.axis(\"off\")\n",
    "        ax.imshow(img)\n",
    "    fig.set_size_inches((width,height))\n",
    "    plt.show()\n",
    "    \n",
    "def show_image(filename:str, height:float=12, width:float=12):\n",
    "    img=cv2.imread(filename)\n",
    "    img=cv2.cvtColor(img, cv2.COLOR_BGR2RGB)        \n",
    "    plt.gca().grid(None)\n",
    "    plt.gca().axis(\"off\")\n",
    "    plt.imshow(img)\n",
    "    plt.gcf().set_size_inches((width,height))\n",
    "    plt.show()\n",
    "\n",
    "def print_file(file_type, filename):\n",
    "    print(f\"\\033[94;1;255m### {file_type} ###\\033[0m\")\n",
    "    with open(filename, \"r\") as fp:\n",
    "        lines=fp.readlines()\n",
    "    lines=[line.rstrip() for line in lines]\n",
    "    for line in lines:\n",
    "        print(line)\n",
    "    \n",
    "def print_shader_code(shader):\n",
    "    print_file(\"VERTEX_SHADER\", f\"src_soln/shaders/{shader}_vert.js\")\n",
    "    print_file(\"FRAGMENT_SHADER\", f\"src_soln/shaders/{shader}_frag.js\")"
   ]
  },
  {
   "cell_type": "code",
   "execution_count": null,
   "metadata": {},
   "outputs": [],
   "source": [
    "## WebGL Shader I: move the color computation to the vertex shader (1 pt)\n",
    "show_images(\"images_soln/hw2_normals_*.png\")\n",
    "print_shader_code(\"starter\")"
   ]
  },
  {
   "cell_type": "code",
   "execution_count": null,
   "metadata": {},
   "outputs": [],
   "source": [
    "## WebGL Shader II: Implement diffuse component of the phong shader (2 pts)\n",
    "show_images(\"images_soln/hw2_diffuse_*.png\")"
   ]
  },
  {
   "cell_type": "code",
   "execution_count": null,
   "metadata": {},
   "outputs": [],
   "source": [
    "## WebGL Shader III: implement specular component of the phong shader (1 pt)\n",
    "show_images(\"images_soln/hw2_specular*.png\")\n",
    "print_shader_code(\"phong\")"
   ]
  },
  {
   "cell_type": "markdown",
   "metadata": {},
   "source": [
    "### WebGL Questions\n",
    "* Question 1: Why does the normal shader (starter_vert.js, starter_frag.js) shade the surfaces that are \"facing us directly\" blue? Hint: start by explaining the OpenGL coordinate system.\n",
    "```\n",
    "YOUR ANSWER HERE\n",
    "```\n",
    "* Question 2: Look at where the ambient/diffuse/specular material properties of the mesh is defined in the code. If you wanted a purple bunny that has blue-ish highlights instead of a brown, how might you set the individual properties? Give a specific example with RGB values for each of the three components. There's no single correct answer. Hint: you can test it on your shader code. Also remember that the colors are aggregated. i.e. the darkest colors are $k_a$, the brightest colors possible are $k_a+k_d+k_s$. \n",
    "($k_a,k_d,k_s$ are colors with RGBA values between 0 and 1.)\n",
    "```\n",
    "YOUR ANSWER HERE\n",
    "```"
   ]
  },
  {
   "cell_type": "markdown",
   "metadata": {},
   "source": [
    "## HW2 Practical: Cameras and Materials\n",
    "The blender component of this homework includes the following steps:\n",
    "* __[Deliverable 1]__ Render the scene with different focal lengths and observe the qualitative difference (1 pt)\n",
    "* __[Deliverable 2]__ Add 2 objects to your scene with a ground plane, set the camera so that both objects are visible and within image boundaries (2 pts), and render with the principled BSDF material, setting the 2 objects to have different material properties (2 pts).\n",
    "\n",
    "\n"
   ]
  },
  {
   "cell_type": "markdown",
   "metadata": {},
   "source": [
    "## Camera focal length\n",
    "\n",
    "* What do you observe when you double the focal length and simultaneously double the camera distance from the target object? \n",
    "A few sentences should suffice.\n",
    "```\n",
    "YOUR ANSWER HERE\n",
    "```"
   ]
  },
  {
   "cell_type": "code",
   "execution_count": null,
   "metadata": {},
   "outputs": [],
   "source": [
    "## Use BRDF on two objects in Eevee (2)\n",
    "show_image(\"images_soln/eevee0001.png\")"
   ]
  }
 ],
 "metadata": {
  "kernelspec": {
   "display_name": "Python 3",
   "language": "python",
   "name": "python3"
  },
  "language_info": {
   "codemirror_mode": {
    "name": "ipython",
    "version": 3
   },
   "file_extension": ".py",
   "mimetype": "text/x-python",
   "name": "python",
   "nbconvert_exporter": "python",
   "pygments_lexer": "ipython3",
   "version": "3.7.6"
  }
 },
 "nbformat": 4,
 "nbformat_minor": 5
}
