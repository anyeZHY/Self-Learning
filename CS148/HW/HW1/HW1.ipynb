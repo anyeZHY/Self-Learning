{
 "cells": [
  {
   "cell_type": "markdown",
   "id": "aa17690c",
   "metadata": {},
   "source": [
    "# CS 148 HW1\n",
    "\n",
    "This assignment has 6 TODOs of varying lengths. We recommend first reading through the TODOs and see which you can do immediately with your prior knowledge. Then, for any TODOs that you're unsure about, read through the notes in the HW1 PDF under the same section as the respective TODOs.\n",
    "\n",
    "1. TODO Part 1: Write a (short) Python script to tessellate a sphere and generate the vertices and faces data of a simple sphere .obj file.\n",
    "2. TODO Part 2: Screenshot your simple sphere .obj imported into Blender.\n",
    "3. TODO Part 3: Model as simple (or as complex) of an object as you want in Blender and screenshot it.\n",
    "4. TODO Part 4: Describe briefly how you made your model.\n",
    "5. TODO Part 5: Write short snippets of Python code to transform a cube object 4 different ways and compute the resultant coordinates of the vertices.\n",
    "6. TODO Part 6: Repeat TODO Part 5 in Blender and screenshot each transform result.\n",
    "\n",
    "When you are done, submit a PDF of this notebook on Gradescope.\n",
    "\n",
    "Note: Do not edit any code that have \"DO NOT EDIT\" above them!"
   ]
  },
  {
   "cell_type": "code",
   "execution_count": null,
   "id": "b3ce6513",
   "metadata": {},
   "outputs": [],
   "source": [
    "#DO NOT EDIT\n",
    "\n",
    "import os, sys \n",
    "import cv2\n",
    "from matplotlib import pyplot as plt\n",
    "\n",
    "import math\n",
    "import numpy as np\n",
    "\n",
    "%load_ext autoreload\n",
    "%autoreload 2\n",
    "\n",
    "def show_image(filename:str, height:float=10, width:float=10):\n",
    "    if not os.path.isfile(filename):\n",
    "        raise IOError(f\"{filename} does not exist! Make sure you saved your images correctly.\")\n",
    "    img = cv2.imread(filename)\n",
    "    img = cv2.cvtColor(img, cv2.COLOR_BGR2RGB)\n",
    "    plt.gcf().set_size_inches((width,height))\n",
    "    plt.gca().grid(None)\n",
    "    plt.gca().axis(\"off\")\n",
    "    plt.imshow(img)\n",
    "    plt.show()"
   ]
  },
  {
   "cell_type": "code",
   "execution_count": null,
   "id": "7dc7e88b",
   "metadata": {},
   "outputs": [],
   "source": [
    "# TODO Part 1\n",
    "\n",
    "# Write a short Python script to compute and print the vertices and faces of an .obj file for a sphere with:\n",
    "#     radius r = 5\n",
    "#     stack count I = 20\n",
    "#     sector count J = 20\n",
    "#\n",
    "# For printing, you can simply use the print() function for each vertex \"v\" line or each face \"f\" line.\n",
    "# See and run the TODO Part 5 cell if you are unsure how to print the file contents.\n",
    "#\n",
    "# Your script can be fairly short, e.g. ~25 lines of code, and just involve simple arithmetic and loops.\n",
    "\n",
    "radius = 5\n",
    "stackCount = 20\n",
    "sectorCount = 20\n",
    "\n",
    "# Begin your code below\n"
   ]
  },
  {
   "cell_type": "code",
   "execution_count": null,
   "id": "c4ba483c",
   "metadata": {},
   "outputs": [],
   "source": [
    "# TODO Part 2\n",
    "\n",
    "# Copy and paste your output in the cell above from Part 1 into a text file with an .obj extension.\n",
    "# Import your .obj sphere into the Blender default scene, and save a screenshot of your Blender interface as:\n",
    "#    \"sphere_gen_screenshot.png\"\n",
    "# in the images directory.\n",
    "# Then, run this cell to display your screenshot in this notebook.\n",
    "\n",
    "#DO NOT EDIT\n",
    "show_image(\"images/sphere_gen_screenshot.png\",height=6,width=10)"
   ]
  },
  {
   "cell_type": "code",
   "execution_count": null,
   "id": "01cd78cc",
   "metadata": {},
   "outputs": [],
   "source": [
    "# TODO Part 3\n",
    "\n",
    "# Create as simple (or as complex) of an object as you want in Blender with polygon modeling and/or sculpting.\n",
    "# Save a screenshot of your Blender interface with your object as:\n",
    "#     \"my_object.png\"\n",
    "# in the images directory.\n",
    "# Then, run this cell to display your screenshot in this notebook.\n",
    "\n",
    "#DO NOT EDIT\n",
    "show_image(\"images/my_object.png\",height=6,width=10)"
   ]
  },
  {
   "cell_type": "markdown",
   "id": "f7451bf8",
   "metadata": {},
   "source": [
    "# TODO Part 4\n",
    "\n",
    "* Describe briefly (2-3 sentences) what you did to make your object from TODO Part 3.\n",
    "```\n",
    "TODO: fill in your answer here\n",
    "```"
   ]
  },
  {
   "cell_type": "code",
   "execution_count": null,
   "id": "a6723d0e",
   "metadata": {},
   "outputs": [],
   "source": [
    "# TODO Part 5\n",
    "# This cell contains the vertices and faces that define the default cube object mesh from Blender.\n",
    "# Running this cell will generate a simple .obj file for the cube mesh.\n",
    "#\n",
    "# In the next 4 cells, write code snippets to generate simple .obj files for:\n",
    "# - the cube rotated about the x-axis by 45 degrees, then rotated about the y-axis by 45 degrees\n",
    "# - the cube rotated about the y-axis by 45 degrees, then rotated about the x-axis by 45 degrees\n",
    "# - the cube translated along the x-axis by 1 unit, then rotated about the y-axis by 45 degrees\n",
    "# - the cube rotated about the y-axis by 45 degrees, then translated along the x-axis by 1 unit\n",
    "#\n",
    "# You should use transformation matrices as discussed in lecture.\n",
    "\n",
    "verts = np.array([[1,1,-1],\n",
    "                  [1,-1,-1],\n",
    "                  [1,1,1],\n",
    "                  [1,-1,1],\n",
    "                  [-1,1,-1],\n",
    "                  [-1,-1,-1],\n",
    "                  [-1,1,1],\n",
    "                  [-1,-1,1]\n",
    "                 ])\n",
    "\n",
    "faces = np.array([[5,3,1],\n",
    "                  [3,8,4],\n",
    "                  [7,6,8],\n",
    "                  [2,8,6],\n",
    "                  [1,4,2],\n",
    "                  [5,2,6],\n",
    "                  [5,7,3],\n",
    "                  [3,7,8],\n",
    "                  [7,5,6],\n",
    "                  [2,4,8],\n",
    "                  [1,3,4],\n",
    "                  [5,1,2]\n",
    "                 ])\n",
    "\n",
    "for i, v in enumerate(verts):\n",
    "    print(\"v %f %f %f\" % (v[0], v[1], v[2]))\n",
    "\n",
    "for i, f in enumerate(faces):\n",
    "    print(\"f %d %d %d\" % (f[0], f[1], f[2]))\n",
    "\n",
    "# Write your own code below as you see fit\n"
   ]
  },
  {
   "cell_type": "code",
   "execution_count": null,
   "id": "a9c653a1",
   "metadata": {},
   "outputs": [],
   "source": [
    "# Write your code snippet to generate the vertices and faces of the .obj file for:\n",
    "# - the cube above rotated about the x-axis by 45 degrees, then rotated about the y-axis by 45 degrees\n"
   ]
  },
  {
   "cell_type": "code",
   "execution_count": null,
   "id": "5d95bae8",
   "metadata": {},
   "outputs": [],
   "source": [
    "# Write your code snippet to generate the vertices and faces of the .obj file for:\n",
    "# - the cube above rotated about the y-axis by 45 degrees, then rotated about the x-axis by 45 degrees\n"
   ]
  },
  {
   "cell_type": "code",
   "execution_count": null,
   "id": "4887c638",
   "metadata": {},
   "outputs": [],
   "source": [
    "# Write your code snippet to generate the vertices and faces of the .obj file for:\n",
    "# - the cube above translated along the x-axis by 1 unit, then rotated about the y-axis by 45 degrees\n"
   ]
  },
  {
   "cell_type": "code",
   "execution_count": null,
   "id": "f88d28e2",
   "metadata": {},
   "outputs": [],
   "source": [
    "# Write your code snippet to generate the vertices and faces of the .obj file for:\n",
    "# - the cube above rotated about the y-axis by 45 degrees, then translated along the x-axis by 1 unit\n"
   ]
  },
  {
   "cell_type": "code",
   "execution_count": null,
   "id": "e13da3a3",
   "metadata": {},
   "outputs": [],
   "source": [
    "# TODO Part 6\n",
    "\n",
    "# Find the vertex at (1,-1,1) for the default cube in a new Blender scene.\n",
    "# Transform the cube 4 different ways from its original orientation as follows.\n",
    "# For each of the following transformations, take a screenshot of the vertex's new GLOBAL coordinates.\n",
    "#\n",
    "# 1) the cube rotated about the GLOBAL x-axis by 45 degrees, then rotated about the GLOBAL y-axis by 45 degrees\n",
    "# 2) the cube rotated about the GLOBAL y-axis by 45 degrees, then rotated about the GLOBAL x-axis by 45 degrees\n",
    "# 3) the cube translated along the GLOBAL x-axis by 1 unit, then rotated about the GLOBAL y-axis by 45 degrees\n",
    "# 4) the cube rotated about the GLOBAL y-axis by 45 degrees, then translated along the GLOBAL x-axis by 1 unit\n",
    "#\n",
    "# Name these screenshots, transform1.png through transform4.png in the images directory.\n",
    "# Then, run the following cells to display your screenshots in this notebook."
   ]
  },
  {
   "cell_type": "code",
   "execution_count": null,
   "id": "31e0401b",
   "metadata": {},
   "outputs": [],
   "source": [
    "#DO NOT EDIT\n",
    "show_image(\"images/transform1.png\",height=6,width=10)"
   ]
  },
  {
   "cell_type": "code",
   "execution_count": null,
   "id": "d6d55189",
   "metadata": {},
   "outputs": [],
   "source": [
    "#DO NOT EDIT\n",
    "show_image(\"images/transform2.png\",height=6,width=10)"
   ]
  },
  {
   "cell_type": "code",
   "execution_count": null,
   "id": "0a4f636f",
   "metadata": {},
   "outputs": [],
   "source": [
    "#DO NOT EDIT\n",
    "show_image(\"images/transform3.png\",height=6,width=10)"
   ]
  },
  {
   "cell_type": "code",
   "execution_count": null,
   "id": "9ff54ed1",
   "metadata": {},
   "outputs": [],
   "source": [
    "#DO NOT EDIT\n",
    "show_image(\"images/transform4.png\",height=6,width=10)"
   ]
  }
 ],
 "metadata": {
  "kernelspec": {
   "display_name": "Python 3 (ipykernel)",
   "language": "python",
   "name": "python3"
  },
  "language_info": {
   "codemirror_mode": {
    "name": "ipython",
    "version": 3
   },
   "file_extension": ".py",
   "mimetype": "text/x-python",
   "name": "python",
   "nbconvert_exporter": "python",
   "pygments_lexer": "ipython3",
   "version": "3.9.12"
  }
 },
 "nbformat": 4,
 "nbformat_minor": 5
}
