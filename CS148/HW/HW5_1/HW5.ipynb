{
 "cells": [
  {
   "cell_type": "code",
   "execution_count": null,
   "id": "103aafe8",
   "metadata": {},
   "outputs": [],
   "source": [
    "#DO NOT EDIT\n",
    "\n",
    "import os, sys \n",
    "import cv2\n",
    "from matplotlib import pyplot as plt\n",
    "\n",
    "import math\n",
    "import numpy as np\n",
    "\n",
    "%load_ext autoreload\n",
    "%autoreload 2\n",
    "\n",
    "def show_image(filename:str, height:float=10, width:float=10):\n",
    "    if not os.path.isfile(filename):\n",
    "        raise IOError(f\"{filename} does not exist! Make sure you saved your images correctly.\")\n",
    "    img = cv2.imread(filename)\n",
    "    img = cv2.cvtColor(img, cv2.COLOR_BGR2RGB)\n",
    "    plt.gcf().set_size_inches((width,height))\n",
    "    plt.gca().grid(None)\n",
    "    plt.gca().axis(\"off\")\n",
    "    plt.imshow(img)\n",
    "    plt.show()"
   ]
  },
  {
   "cell_type": "code",
   "execution_count": null,
   "id": "c5075c68",
   "metadata": {},
   "outputs": [],
   "source": [
    "# TODO Fluid Simulation\n",
    "# Edit to display your render\n",
    "show_image(\"images/my_image.png\",height=6,width=10)"
   ]
  },
  {
   "cell_type": "code",
   "execution_count": null,
   "id": "a054257b",
   "metadata": {},
   "outputs": [],
   "source": [
    "# TODO Cloth Simulation\n",
    "# Edit to display your render\n",
    "show_image(\"images/my_image.png\",height=6,width=10)"
   ]
  },
  {
   "cell_type": "code",
   "execution_count": null,
   "id": "e568e30c",
   "metadata": {},
   "outputs": [],
   "source": [
    "# TODO Motion Blur\n",
    "# Edit to display your render\n",
    "show_image(\"images/my_image.png\",height=6,width=10)"
   ]
  },
  {
   "cell_type": "code",
   "execution_count": null,
   "id": "b0469761",
   "metadata": {},
   "outputs": [],
   "source": [
    "# TODO Volume Rendering\n",
    "# Edit to display your render\n",
    "show_image(\"images/my_image.png\",height=6,width=10)"
   ]
  },
  {
   "cell_type": "code",
   "execution_count": null,
   "id": "1267df45",
   "metadata": {},
   "outputs": [],
   "source": [
    "# TODO Project\n",
    "# Edit to display your render\n",
    "show_image(\"images/my_image.png\",height=6,width=10)"
   ]
  },
  {
   "cell_type": "code",
   "execution_count": null,
   "id": "3974790a",
   "metadata": {},
   "outputs": [],
   "source": []
  }
 ],
 "metadata": {
  "kernelspec": {
   "display_name": "Python 3 (ipykernel)",
   "language": "python",
   "name": "python3"
  },
  "language_info": {
   "codemirror_mode": {
    "name": "ipython",
    "version": 3
   },
   "file_extension": ".py",
   "mimetype": "text/x-python",
   "name": "python",
   "nbconvert_exporter": "python",
   "pygments_lexer": "ipython3",
   "version": "3.9.12"
  }
 },
 "nbformat": 4,
 "nbformat_minor": 5
}
